{
 "cells": [
  {
   "cell_type": "code",
   "execution_count": 9,
   "id": "be886f57",
   "metadata": {},
   "outputs": [
    {
     "data": {
      "text/plain": [
       "'34'"
      ]
     },
     "execution_count": 9,
     "metadata": {},
     "output_type": "execute_result"
    }
   ],
   "source": [
    "from datetime import datetime\n",
    "import string\n",
    "\n",
    "class split_converter:\n",
    "    def split_to_lap(splits:list):\n",
    "        ''' Take an input list of all the race splits and return list of laps '''\n",
    "\n",
    "        splits = split_converter.fix_empty_splits(splits)\n",
    "        conversion = [split_converter.interpret_input(y) - split_converter.interpret_input(x) for x,y in zip(splits,splits[1:])]\n",
    "        formatted_conversion = [str(x) for x in conversion]\n",
    "\n",
    "        return formatted_conversion\n",
    "\n",
    "    def interpret_input(input:str):\n",
    "        ''' Convert string to useable datetime value '''\n",
    "        time_val = datetime.strptime(input, '%M:%S.%f')\n",
    "        return time_val\n",
    "    \n",
    "    def fix_empty_splits(raw_input:list):\n",
    "        if not any(bool(i) for i in raw_input):\n",
    "            return raw_input\n",
    "        \n",
    "        \n",
    "\n",
    "test = ('1:23.4', '2:40.4', '3:50.4', '3:50.4') + ('3:50.4', '3:50.4', '3:50.4', '3:50.4')\n",
    "\n",
    "test2 = split_converter.interpret_input('1:23.45')\n",
    "test3 = split_converter.interpret_input('2:34.56')\n",
    "\n",
    "test3.strftime('%S')"
   ]
  }
 ],
 "metadata": {
  "kernelspec": {
   "display_name": "Python 3 (ipykernel)",
   "language": "python",
   "name": "python3"
  },
  "language_info": {
   "codemirror_mode": {
    "name": "ipython",
    "version": 3
   },
   "file_extension": ".py",
   "mimetype": "text/x-python",
   "name": "python",
   "nbconvert_exporter": "python",
   "pygments_lexer": "ipython3",
   "version": "3.9.16"
  }
 },
 "nbformat": 4,
 "nbformat_minor": 5
}
