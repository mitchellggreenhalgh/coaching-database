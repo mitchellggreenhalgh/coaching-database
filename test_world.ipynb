{
 "cells": [
  {
   "attachments": {},
   "cell_type": "markdown",
   "id": "3f5cdb30",
   "metadata": {},
   "source": [
    "## Testing String Manipulation and Functions"
   ]
  },
  {
   "cell_type": "code",
   "execution_count": 2,
   "id": "be886f57",
   "metadata": {},
   "outputs": [
    {
     "data": {
      "text/plain": [
       "'6:15.41'"
      ]
     },
     "execution_count": 2,
     "metadata": {},
     "output_type": "execute_result"
    }
   ],
   "source": [
    "from datetime import datetime\n",
    "import string\n",
    "\n",
    "class split_converter:\n",
    "    def split_to_lap(splits:list):\n",
    "        ''' Take an input list of all the race splits and return list of laps '''\n",
    "\n",
    "        splits = split_converter.fix_empty_splits(splits)\n",
    "        conversion = [split_converter.interpret_input(y) - split_converter.interpret_input(x) for x,y in zip(splits,splits[1:])]\n",
    "        formatted_conversion = [str(x) for x in conversion]\n",
    "\n",
    "        return formatted_conversion\n",
    "\n",
    "    def interpret_input(input:str):\n",
    "        ''' Convert string to useable datetime value '''\n",
    "        time_val = datetime.strptime(input, '%M:%S.%f')\n",
    "        return time_val\n",
    "    \n",
    "    def fix_empty_splits(raw_input:list):\n",
    "        if not any(bool(i) for i in raw_input):\n",
    "            return raw_input\n",
    "        \n",
    "        \n",
    "\n",
    "test = ('1:23.45', '2:40.43', '3:50.81', '3:59.49') + ('3:50.46', '3:50.44', '3:50.41', '3:50.43')\n",
    "\n",
    "test2 = split_converter.interpret_input('1:23.45')\n",
    "test3 = split_converter.interpret_input('2:34.56')\n",
    "test4 = ['1:07.95', '0:52.90']\n",
    "\n",
    "test5 = ['1:25.00', '1:34.81', '1:38.13', '1:37.47']\n",
    "\n",
    "class time_addition:\n",
    "\n",
    "    def add_time(str_list:list or tuple):\n",
    "        minutes = sum([int(time[0]) for time in str_list])\n",
    "        seconds = sum([float(sec[2:]) for sec in str_list])\n",
    "\n",
    "        minutes += int(seconds // 60)\n",
    "        remaining_seconds = round(seconds % 60, 2)\n",
    "\n",
    "        return f'{minutes}:{remaining_seconds:02}'\n",
    "    \n",
    "# [i for i in test5 if i != ''] == [i for i in test5 if i]\n",
    "from time_math import time_addition as ta\n",
    "ta.add_time(test5)\n"
   ]
  },
  {
   "attachments": {},
   "cell_type": "markdown",
   "id": "dacde8b9",
   "metadata": {},
   "source": [
    "## Replacing Tables in the Database"
   ]
  },
  {
   "cell_type": "code",
   "execution_count": 1,
   "id": "ea40ca1c",
   "metadata": {},
   "outputs": [
    {
     "name": "stdout",
     "output_type": "stream",
     "text": [
      "dropped the table\n",
      "1\n",
      "added the table\n",
      "2\n"
     ]
    }
   ],
   "source": [
    "from backup_database import db_backupper\n",
    "import sqlite3\n",
    "\n",
    "db_name = db_backupper().db_name\n",
    "\n",
    "counter = 1\n",
    "\n",
    "running_db = sqlite3.connect(db_name)\n",
    "cursor = running_db.cursor()\n",
    "\n",
    "for _ in range(2):\n",
    "    if counter % 2 != 0:\n",
    "        cursor.execute('''DROP TABLE relays''')\n",
    "        print('dropped the table')\n",
    "        print(counter)\n",
    "        counter += 1\n",
    "    else:\n",
    "        cursor.execute('''\n",
    "                CREATE TABLE IF NOT EXISTS relays (\n",
    "                        meet_name TEXT,\n",
    "                        date DATE,\n",
    "                        event TEXT,\n",
    "                        sex TEXT,\n",
    "                        leg_1 TEXT,\n",
    "                        leg_2 TEXT,\n",
    "                        leg_3 TEXT,\n",
    "                        leg_4 TEXT,\n",
    "                        time TIME,\n",
    "                        PRIMARY KEY (meet_name, date, event, sex, time)\n",
    "                    )\n",
    "                   ''')\n",
    "        print('added the table')\n",
    "        print(counter)\n",
    "        counter += 1\n",
    "\n",
    "running_db.commit()\n",
    "running_db.close()\n"
   ]
  },
  {
   "attachments": {},
   "cell_type": "markdown",
   "id": "84560cec",
   "metadata": {},
   "source": [
    "## Troubleshoot time_math"
   ]
  },
  {
   "cell_type": "code",
   "execution_count": 1,
   "id": "0bee54fd",
   "metadata": {},
   "outputs": [
    {
     "data": {
      "text/plain": [
       "'2:48.44'"
      ]
     },
     "execution_count": 1,
     "metadata": {},
     "output_type": "execute_result"
    }
   ],
   "source": [
    "from time_math import time_addition\n",
    "\n",
    "# time_addition.add_time(test4)\n",
    "\n",
    "data1 = ['0:36.72',\t'0:43.94', '0:43.78', '0:44.00']\n",
    "time_addition.add_time(data1)\n"
   ]
  },
  {
   "attachments": {},
   "cell_type": "markdown",
   "id": "1ea4cfaf",
   "metadata": {},
   "source": [
    "## Troubleshoot split_conversions"
   ]
  },
  {
   "cell_type": "code",
   "execution_count": 15,
   "id": "c5dc0ddb",
   "metadata": {},
   "outputs": [
    {
     "data": {
      "text/plain": [
       "['2:00.00', '1:57.01', '2:04.10', '2:06.62', '2:21.71', '2:21.86', '2:03.87']"
      ]
     },
     "execution_count": 15,
     "metadata": {},
     "output_type": "execute_result"
    }
   ],
   "source": [
    "from split_conversions import split_converter\n",
    "\n",
    "test6 = ['1:02.95', '2:52.87', '', '', '', '', '', '']\n",
    "test7 = ['2:05.12', '4:05.12', '6:02.13', '8:06.23', '10:12.85', '12:34.56', '14:56.42', '17:00.29']\n",
    "\n",
    "\n",
    "temp1 = [split_converter.interpret_input(y) - split_converter.interpret_input(x) for x,y in zip(test7,test7[1:])]\n",
    "[str(i)[3:-4] if len(str(i)) > 7 else str(i)[3:] + '.00' for i in temp1] \n"
   ]
  },
  {
   "attachments": {},
   "cell_type": "markdown",
   "id": "a9e0249a",
   "metadata": {},
   "source": [
    "## Meet name db query"
   ]
  },
  {
   "cell_type": "code",
   "execution_count": 8,
   "id": "eb3f69a5",
   "metadata": {},
   "outputs": [
    {
     "data": {
      "text/plain": [
       "['ahsaa 6a section 3 sectional meet',\n",
       " 'ahsaa 6a state meet',\n",
       " 'homewood invitational',\n",
       " 'jaguar invitational',\n",
       " 'king of the mountain invitational',\n",
       " 'king of the west invitational',\n",
       " 'mountain brook invitational',\n",
       " 'northridge black and blue invitational',\n",
       " 'paul w. bryant high school invitational',\n",
       " 'southern mississippi high school invitational',\n",
       " 'spain park invitational',\n",
       " 'tuscaloosa/western alabama city/county championships']"
      ]
     },
     "execution_count": 8,
     "metadata": {},
     "output_type": "execute_result"
    }
   ],
   "source": [
    "from backup_database import db_backupper\n",
    "from database_operations import db_ops\n",
    "\n",
    "db_name = db_backupper.db_name\n",
    "db_ops.retrieve_meets(db_name)"
   ]
  },
  {
   "cell_type": "markdown",
   "id": "6ea232ab",
   "metadata": {},
   "source": [
    "### Troubleshoot new create_database classes"
   ]
  },
  {
   "cell_type": "code",
   "execution_count": 12,
   "id": "5ab02e22",
   "metadata": {},
   "outputs": [
    {
     "name": "stdout",
     "output_type": "stream",
     "text": [
      "Commit canceled. Rename database.\n"
     ]
    }
   ],
   "source": [
    "import sqlite3  \n",
    "import os\n",
    "# https://www.w3schools.com/sql/sql_view.asp\n",
    "\n",
    "\n",
    "class db_creator:\n",
    "    def __init__(self, db_name = 'test.db'):\n",
    "        self.db_name = db_name\n",
    "\n",
    "    def create_db(self):\n",
    "        db_name = self.db_name\n",
    "        running_db = sqlite3.connect(db_name)\n",
    "        connection = running_db.cursor()\n",
    "\n",
    "        connection.execute('''\n",
    "                    CREATE TABLE IF NOT EXISTS athletes (\n",
    "                        athlete TEXT,\n",
    "                        season TEXT,\n",
    "                        season_year YEAR,\n",
    "                        grade INTEGER,\n",
    "                        sex TEXT,\n",
    "                        PRIMARY KEY (athlete, season, season_year)\n",
    "                    )\n",
    "                    ''')\n",
    "\n",
    "        connection.execute('''\n",
    "                    CREATE TABLE IF NOT EXISTS db800 (\n",
    "                        athlete TEXT,\n",
    "                        first_200 DOUBLE,\n",
    "                        second_200 DOUBLE,\n",
    "                        third_200 DOUBLE,\n",
    "                        fourth_200 DOUBLE,\n",
    "                        first_400 DOUBLE,\n",
    "                        second_400 DOUBLE,\n",
    "                        time_200s AS (first_200 + second_200 + third_200 + fourth_200),\n",
    "                        time_400s AS (first_400 + second_400),\n",
    "                        PRIMARY KEY (athlete, first_200, second_200, third_200, fourth_200, first_400, second_400)\n",
    "                        )\n",
    "                    ''')\n",
    "\n",
    "        connection.execute('''\n",
    "                    CREATE TABLE IF NOT EXISTS db400 (\n",
    "                        athlete TEXT,\n",
    "                        first_200 DOUBLE,\n",
    "                        second_200 DOUBLE,\n",
    "                        time_sec AS (first_200 + second_200),\n",
    "                        PRIMARY KEY (athlete, first_200, second_200)\n",
    "                        )\n",
    "                    ''')\n",
    "\n",
    "\n",
    "        connection.execute('''\n",
    "                        CREATE TABLE IF NOT EXISTS race_laps (\n",
    "                            athlete TEXT,\n",
    "                            event_distance_m INTEGER,\n",
    "                            date DATE,\n",
    "                            meet_name TEXT,\n",
    "                            relay_y_n INTEGER,\n",
    "                            lap_1 TEXT,\n",
    "                            lap_2 TEXT,\n",
    "                            lap_3 TEXT,\n",
    "                            lap_4 TEXT,\n",
    "                            lap_5 TEXT,\n",
    "                            lap_6 TEXT,\n",
    "                            lap_7 TEXT,\n",
    "                            lap_8 TEXT,\n",
    "                            total_time TEXT,\n",
    "                            PRIMARY KEY (athlete, event_distance_m, date, meet_name, total_time)\n",
    "                        )\n",
    "                    ''')\n",
    "\n",
    "        connection.execute('''\n",
    "                        CREATE TABLE IF NOT EXISTS meet_information (\n",
    "                            name TEXT,\n",
    "                            date DATE,\n",
    "                            host_school TEXT,\n",
    "                            physical_location TEXT,\n",
    "                            city_state TEXT,\n",
    "                            weather_temperature_deg_F INTEGER,\n",
    "                            weather_clouds TEXT,\n",
    "                            weather_precipitation TEXT,\n",
    "                            weather_notes TEXT,\n",
    "                            PRIMARY KEY(name, date)\n",
    "                    )\n",
    "                    ''')\n",
    "\n",
    "        connection.execute('''\n",
    "                        CREATE TABLE IF NOT EXISTS relays (\n",
    "                            meet_name TEXT,\n",
    "                            date DATE,\n",
    "                            event TEXT,\n",
    "                            sex TEXT,\n",
    "                            leg_1 TEXT,\n",
    "                            leg_2 TEXT,\n",
    "                            leg_3 TEXT,\n",
    "                            leg_4 TEXT,\n",
    "                            time TIME,\n",
    "                            PRIMARY KEY (meet_name, date, event)\n",
    "                        )\n",
    "                        ''')\n",
    "        try:\n",
    "            # Check if a database of the same name exists\n",
    "            if self.db_name not in os.listdir(path = os.getcwd()):\n",
    "                running_db.commit()\n",
    "                running_db.close()\n",
    "            else: \n",
    "                raise Exception\n",
    "\n",
    "        except:\n",
    "            overwrite_permission = input('Overwrite most recent database? [y]/n ')\n",
    "            if overwrite_permission in ['', 'y']:\n",
    "                running_db.commit()\n",
    "                print('Database overwritten.')\n",
    "            else:\n",
    "                print('Commit canceled. Rename database.')\n",
    "        \n",
    "test1 = db_creator('test.db')\n",
    "test1.create_db()\n",
    "\n"
   ]
  }
 ],
 "metadata": {
  "kernelspec": {
   "display_name": "Python 3 (ipykernel)",
   "language": "python",
   "name": "python3"
  },
  "language_info": {
   "codemirror_mode": {
    "name": "ipython",
    "version": 3
   },
   "file_extension": ".py",
   "mimetype": "text/x-python",
   "name": "python",
   "nbconvert_exporter": "python",
   "pygments_lexer": "ipython3",
   "version": "3.9.16"
  }
 },
 "nbformat": 4,
 "nbformat_minor": 5
}
