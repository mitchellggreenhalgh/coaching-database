{
 "cells": [
  {
   "cell_type": "code",
   "execution_count": 16,
   "id": "57423c65",
   "metadata": {},
   "outputs": [
    {
     "ename": "NameError",
     "evalue": "name 'fix_empty_splits' is not defined",
     "output_type": "error",
     "traceback": [
      "\u001b[1;31m---------------------------------------------------------------------------\u001b[0m",
      "\u001b[1;31mNameError\u001b[0m                                 Traceback (most recent call last)",
      "Input \u001b[1;32mIn [16]\u001b[0m, in \u001b[0;36m<cell line: 26>\u001b[1;34m()\u001b[0m\n\u001b[0;32m     21\u001b[0m             \u001b[38;5;28;01mreturn\u001b[39;00m raw_input\n\u001b[0;32m     25\u001b[0m test \u001b[38;5;241m=\u001b[39m [\u001b[38;5;124m'\u001b[39m\u001b[38;5;124m1:23.4\u001b[39m\u001b[38;5;124m'\u001b[39m, \u001b[38;5;124m'\u001b[39m\u001b[38;5;124m2:40.4\u001b[39m\u001b[38;5;124m'\u001b[39m, \u001b[38;5;124m'\u001b[39m\u001b[38;5;124m3:50.4\u001b[39m\u001b[38;5;124m'\u001b[39m, \u001b[38;5;124m'\u001b[39m\u001b[38;5;124m3:50.4\u001b[39m\u001b[38;5;124m'\u001b[39m, \u001b[38;5;124m'\u001b[39m\u001b[38;5;124m3:50.4\u001b[39m\u001b[38;5;124m'\u001b[39m, \u001b[38;5;124m'\u001b[39m\u001b[38;5;124m3:50.4\u001b[39m\u001b[38;5;124m'\u001b[39m, \u001b[38;5;124m'\u001b[39m\u001b[38;5;124m3:50.4\u001b[39m\u001b[38;5;124m'\u001b[39m, \u001b[38;5;124m'\u001b[39m\u001b[38;5;124m3:50.4\u001b[39m\u001b[38;5;124m'\u001b[39m,]\n\u001b[1;32m---> 26\u001b[0m \u001b[43msplit_converter\u001b[49m\u001b[38;5;241;43m.\u001b[39;49m\u001b[43msplit_to_lap\u001b[49m\u001b[43m(\u001b[49m\u001b[43mtest\u001b[49m\u001b[43m)\u001b[49m\n",
      "Input \u001b[1;32mIn [16]\u001b[0m, in \u001b[0;36msplit_converter.split_to_lap\u001b[1;34m(splits)\u001b[0m\n\u001b[0;32m      5\u001b[0m \u001b[38;5;28;01mdef\u001b[39;00m \u001b[38;5;21msplit_to_lap\u001b[39m(splits:\u001b[38;5;28mlist\u001b[39m):\n\u001b[0;32m      6\u001b[0m     \u001b[38;5;124;03m''' Take an input list of all the race splits and return list of laps '''\u001b[39;00m\n\u001b[1;32m----> 8\u001b[0m     splits \u001b[38;5;241m=\u001b[39m \u001b[43mfix_empty_splits\u001b[49m(splits)\n\u001b[0;32m      9\u001b[0m     conversion \u001b[38;5;241m=\u001b[39m [split_converter\u001b[38;5;241m.\u001b[39minterpret_input(y) \u001b[38;5;241m-\u001b[39m split_converter\u001b[38;5;241m.\u001b[39minterpret_input(x) \u001b[38;5;28;01mfor\u001b[39;00m x,y \u001b[38;5;129;01min\u001b[39;00m \u001b[38;5;28mzip\u001b[39m(splits,splits[\u001b[38;5;241m1\u001b[39m:])]\n\u001b[0;32m     10\u001b[0m     formatted_conversion \u001b[38;5;241m=\u001b[39m [\u001b[38;5;28mstr\u001b[39m(x) \u001b[38;5;28;01mfor\u001b[39;00m x \u001b[38;5;129;01min\u001b[39;00m conversion]\n",
      "\u001b[1;31mNameError\u001b[0m: name 'fix_empty_splits' is not defined"
     ]
    }
   ],
   "source": [
    "from datetime import datetime\n",
    "import string\n",
    "\n",
    "class split_converter:\n",
    "    def split_to_lap(splits:list):\n",
    "        ''' Take an input list of all the race splits and return list of laps '''\n",
    "\n",
    "        splits = fix_empty_splits(splits)\n",
    "        conversion = [split_converter.interpret_input(y) - split_converter.interpret_input(x) for x,y in zip(splits,splits[1:])]\n",
    "        formatted_conversion = [str(x) for x in conversion]\n",
    "\n",
    "        return formatted_conversion\n",
    "\n",
    "    def interpret_input(input:str):\n",
    "        ''' Convert string to useable datetime value '''\n",
    "        time_val = datetime.strptime(input, '%M:%S.%f')\n",
    "        return time_val\n",
    "    \n",
    "    def fix_empty_splits(raw_input:list):\n",
    "        if not any(bool(i) for i in raw_input):\n",
    "            return raw_input\n",
    "        \n",
    "        \n",
    "\n",
    "test = ('1:23.4', '2:40.4', '3:50.4', '3:50.4') + ('3:50.4', '3:50.4', '3:50.4', '3:50.4')\n",
    "split_converter.split_to_lap(test)"
   ]
  }
 ],
 "metadata": {
  "kernelspec": {
   "display_name": "Python 3 (ipykernel)",
   "language": "python",
   "name": "python3"
  },
  "language_info": {
   "codemirror_mode": {
    "name": "ipython",
    "version": 3
   },
   "file_extension": ".py",
   "mimetype": "text/x-python",
   "name": "python",
   "nbconvert_exporter": "python",
   "pygments_lexer": "ipython3",
   "version": "3.9.0"
  }
 },
 "nbformat": 4,
 "nbformat_minor": 5
}
